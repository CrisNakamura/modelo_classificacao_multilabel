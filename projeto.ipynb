{
 "cells": [
  {
   "cell_type": "markdown",
   "metadata": {},
   "source": [
    "## Bibliotecas"
   ]
  },
  {
   "cell_type": "code",
   "execution_count": 1,
   "metadata": {},
   "outputs": [],
   "source": [
    "import pandas as pd\n",
    "from sklearn.model_selection import train_test_split\n",
    "from sklearn.feature_extraction.text import TfidfVectorizer"
   ]
  },
  {
   "cell_type": "markdown",
   "metadata": {},
   "source": [
    "## Carregando os dados"
   ]
  },
  {
   "cell_type": "code",
   "execution_count": 2,
   "metadata": {},
   "outputs": [
    {
     "data": {
      "text/html": [
       "<div>\n",
       "<style scoped>\n",
       "    .dataframe tbody tr th:only-of-type {\n",
       "        vertical-align: middle;\n",
       "    }\n",
       "\n",
       "    .dataframe tbody tr th {\n",
       "        vertical-align: top;\n",
       "    }\n",
       "\n",
       "    .dataframe thead th {\n",
       "        text-align: right;\n",
       "    }\n",
       "</style>\n",
       "<table border=\"1\" class=\"dataframe\">\n",
       "  <thead>\n",
       "    <tr style=\"text-align: right;\">\n",
       "      <th></th>\n",
       "      <th>Perguntas</th>\n",
       "      <th>Tags</th>\n",
       "    </tr>\n",
       "  </thead>\n",
       "  <tbody>\n",
       "    <tr>\n",
       "      <th>0</th>\n",
       "      <td>Possuo um projeto Node.js porém preciso criar ...</td>\n",
       "      <td>node.js</td>\n",
       "    </tr>\n",
       "    <tr>\n",
       "      <th>1</th>\n",
       "      <td>Gostaria de fazer testes unitários no Node.js,...</td>\n",
       "      <td>node.js</td>\n",
       "    </tr>\n",
       "    <tr>\n",
       "      <th>2</th>\n",
       "      <td>Como inverter a ordem com que o jQuery itera u...</td>\n",
       "      <td>jquery</td>\n",
       "    </tr>\n",
       "    <tr>\n",
       "      <th>3</th>\n",
       "      <td>Eu tenho uma página onde pretendo utilizar um ...</td>\n",
       "      <td>html</td>\n",
       "    </tr>\n",
       "    <tr>\n",
       "      <th>4</th>\n",
       "      <td>Como exibir os dados retornados do FireStore e...</td>\n",
       "      <td>html angular</td>\n",
       "    </tr>\n",
       "  </tbody>\n",
       "</table>\n",
       "</div>"
      ],
      "text/plain": [
       "                                           Perguntas           Tags\n",
       "0  Possuo um projeto Node.js porém preciso criar ...        node.js\n",
       "1  Gostaria de fazer testes unitários no Node.js,...        node.js\n",
       "2  Como inverter a ordem com que o jQuery itera u...         jquery\n",
       "3  Eu tenho uma página onde pretendo utilizar um ...           html\n",
       "4  Como exibir os dados retornados do FireStore e...  html angular "
      ]
     },
     "execution_count": 2,
     "metadata": {},
     "output_type": "execute_result"
    }
   ],
   "source": [
    "dados = pd.read_csv('Dados/stackoverflow_perguntas.csv')\n",
    "dados.head()"
   ]
  },
  {
   "cell_type": "markdown",
   "metadata": {},
   "source": [
    "## Analisando os dados"
   ]
  },
  {
   "cell_type": "code",
   "execution_count": 3,
   "metadata": {},
   "outputs": [
    {
     "name": "stdout",
     "output_type": "stream",
     "text": [
      "Linhas: 5408\n",
      "Colunas: 2\n"
     ]
    }
   ],
   "source": [
    "print(f'Linhas: {dados.shape[0]}')\n",
    "print(f'Colunas: {dados.shape[1]}')"
   ]
  },
  {
   "cell_type": "markdown",
   "metadata": {},
   "source": [
    "Podemos verificar abaixo que na coluna Tags, temos 37 valores únicos."
   ]
  },
  {
   "cell_type": "code",
   "execution_count": 4,
   "metadata": {},
   "outputs": [
    {
     "name": "stdout",
     "output_type": "stream",
     "text": [
      "37\n"
     ]
    }
   ],
   "source": [
    "print(len(dados['Tags'].unique()))"
   ]
  },
  {
   "cell_type": "markdown",
   "metadata": {},
   "source": [
    "Porém, ao analisar cada um dos valores únicos, notamos existência de alguns valores que podemos tratar."
   ]
  },
  {
   "cell_type": "code",
   "execution_count": 5,
   "metadata": {},
   "outputs": [
    {
     "data": {
      "text/plain": [
       "array(['node.js', 'jquery', 'html', 'html angular ', 'html ', 'angular',\n",
       "       'angular ', 'jquery html  ', 'jquery ', 'jquery html',\n",
       "       'jquery html ', 'html angular', 'angular node.js ', 'html  ',\n",
       "       'jquery html angular', 'node.js ', 'html jquery', 'html jquery ',\n",
       "       'jquery angular  ', 'html node.js', 'jquery  ', 'angular node.js',\n",
       "       'jquery angular', 'html node.js ', 'jquery node.js ', 'angular  ',\n",
       "       'jquery angular ', 'jquery html angular ', 'node.js html ',\n",
       "       ' node.js', 'node.js html', 'html angular  ', 'jquery node.js',\n",
       "       'angular html', 'html angular  node.js', 'jquery html node.js',\n",
       "       'html angular node.js'], dtype=object)"
      ]
     },
     "execution_count": 5,
     "metadata": {},
     "output_type": "execute_result"
    }
   ],
   "source": [
    "dados['Tags'].unique()"
   ]
  },
  {
   "cell_type": "markdown",
   "metadata": {},
   "source": [
    "## Tratamento de dados\n",
    "\n",
    "### Criando uma lista com os tags separados\n",
    "Abaixo, criamos uma lista de tags únicos existentes no nosso dataframe. Ao executar o código abaixo, podemos observar que há 4 tags diferentes: node.js, jquery, html e angular."
   ]
  },
  {
   "cell_type": "code",
   "execution_count": 6,
   "metadata": {},
   "outputs": [
    {
     "name": "stdout",
     "output_type": "stream",
     "text": [
      "['node.js', 'jquery', 'html', 'angular']\n"
     ]
    }
   ],
   "source": [
    "lista_tags = list()\n",
    "\n",
    "for tags in dados['Tags'].unique():\n",
    "    for tag in tags.split():\n",
    "        if tag not in lista_tags:\n",
    "            lista_tags.append(tag)\n",
    "\n",
    "print(lista_tags)"
   ]
  },
  {
   "cell_type": "markdown",
   "metadata": {},
   "source": [
    "### Criando uma função para criar uma coluna para cada tag\n",
    "\n",
    "Abaixo, criamos uma função para criar colunas de cada tag. Os dados são preeenchidos de acordo com a coluna Tags."
   ]
  },
  {
   "cell_type": "code",
   "execution_count": 7,
   "metadata": {},
   "outputs": [
    {
     "data": {
      "text/html": [
       "<div>\n",
       "<style scoped>\n",
       "    .dataframe tbody tr th:only-of-type {\n",
       "        vertical-align: middle;\n",
       "    }\n",
       "\n",
       "    .dataframe tbody tr th {\n",
       "        vertical-align: top;\n",
       "    }\n",
       "\n",
       "    .dataframe thead th {\n",
       "        text-align: right;\n",
       "    }\n",
       "</style>\n",
       "<table border=\"1\" class=\"dataframe\">\n",
       "  <thead>\n",
       "    <tr style=\"text-align: right;\">\n",
       "      <th></th>\n",
       "      <th>Perguntas</th>\n",
       "      <th>Tags</th>\n",
       "      <th>node.js</th>\n",
       "      <th>jquery</th>\n",
       "      <th>html</th>\n",
       "      <th>angular</th>\n",
       "    </tr>\n",
       "  </thead>\n",
       "  <tbody>\n",
       "    <tr>\n",
       "      <th>0</th>\n",
       "      <td>Possuo um projeto Node.js porém preciso criar ...</td>\n",
       "      <td>node.js</td>\n",
       "      <td>1</td>\n",
       "      <td>0</td>\n",
       "      <td>0</td>\n",
       "      <td>0</td>\n",
       "    </tr>\n",
       "    <tr>\n",
       "      <th>1</th>\n",
       "      <td>Gostaria de fazer testes unitários no Node.js,...</td>\n",
       "      <td>node.js</td>\n",
       "      <td>1</td>\n",
       "      <td>0</td>\n",
       "      <td>0</td>\n",
       "      <td>0</td>\n",
       "    </tr>\n",
       "    <tr>\n",
       "      <th>2</th>\n",
       "      <td>Como inverter a ordem com que o jQuery itera u...</td>\n",
       "      <td>jquery</td>\n",
       "      <td>0</td>\n",
       "      <td>1</td>\n",
       "      <td>0</td>\n",
       "      <td>0</td>\n",
       "    </tr>\n",
       "    <tr>\n",
       "      <th>3</th>\n",
       "      <td>Eu tenho uma página onde pretendo utilizar um ...</td>\n",
       "      <td>html</td>\n",
       "      <td>0</td>\n",
       "      <td>0</td>\n",
       "      <td>1</td>\n",
       "      <td>0</td>\n",
       "    </tr>\n",
       "    <tr>\n",
       "      <th>4</th>\n",
       "      <td>Como exibir os dados retornados do FireStore e...</td>\n",
       "      <td>html angular</td>\n",
       "      <td>0</td>\n",
       "      <td>0</td>\n",
       "      <td>1</td>\n",
       "      <td>1</td>\n",
       "    </tr>\n",
       "  </tbody>\n",
       "</table>\n",
       "</div>"
      ],
      "text/plain": [
       "                                           Perguntas           Tags  node.js  \\\n",
       "0  Possuo um projeto Node.js porém preciso criar ...        node.js        1   \n",
       "1  Gostaria de fazer testes unitários no Node.js,...        node.js        1   \n",
       "2  Como inverter a ordem com que o jQuery itera u...         jquery        0   \n",
       "3  Eu tenho uma página onde pretendo utilizar um ...           html        0   \n",
       "4  Como exibir os dados retornados do FireStore e...  html angular         0   \n",
       "\n",
       "   jquery  html  angular  \n",
       "0       0     0        0  \n",
       "1       0     0        0  \n",
       "2       1     0        0  \n",
       "3       0     1        0  \n",
       "4       0     1        1  "
      ]
     },
     "execution_count": 7,
     "metadata": {},
     "output_type": "execute_result"
    }
   ],
   "source": [
    "def nova_coluna(lista_tags, dataframe, nome_tags):\n",
    "    for tag in lista_tags:\n",
    "        coluna = list()\n",
    "        for linha_tag in dataframe[nome_tags]:\n",
    "            if tag in linha_tag:\n",
    "                coluna.append(1)\n",
    "            else:\n",
    "                coluna.append(0)\n",
    "\n",
    "        dataframe[tag] = coluna\n",
    "\n",
    "nova_coluna(lista_tags, dados, 'Tags')\n",
    "\n",
    "dados.head()"
   ]
  },
  {
   "cell_type": "markdown",
   "metadata": {},
   "source": [
    "### Zip para classificação multilabel\n",
    "\n",
    "Por fim, juntamos os dados das 4 tags em uma coluna para facilitar a criação e o performance do modelo."
   ]
  },
  {
   "cell_type": "code",
   "execution_count": 8,
   "metadata": {},
   "outputs": [
    {
     "data": {
      "text/html": [
       "<div>\n",
       "<style scoped>\n",
       "    .dataframe tbody tr th:only-of-type {\n",
       "        vertical-align: middle;\n",
       "    }\n",
       "\n",
       "    .dataframe tbody tr th {\n",
       "        vertical-align: top;\n",
       "    }\n",
       "\n",
       "    .dataframe thead th {\n",
       "        text-align: right;\n",
       "    }\n",
       "</style>\n",
       "<table border=\"1\" class=\"dataframe\">\n",
       "  <thead>\n",
       "    <tr style=\"text-align: right;\">\n",
       "      <th></th>\n",
       "      <th>Perguntas</th>\n",
       "      <th>Tags</th>\n",
       "      <th>node.js</th>\n",
       "      <th>jquery</th>\n",
       "      <th>html</th>\n",
       "      <th>angular</th>\n",
       "      <th>todas_tags</th>\n",
       "    </tr>\n",
       "  </thead>\n",
       "  <tbody>\n",
       "    <tr>\n",
       "      <th>0</th>\n",
       "      <td>Possuo um projeto Node.js porém preciso criar ...</td>\n",
       "      <td>node.js</td>\n",
       "      <td>1</td>\n",
       "      <td>0</td>\n",
       "      <td>0</td>\n",
       "      <td>0</td>\n",
       "      <td>(1, 0, 0, 0)</td>\n",
       "    </tr>\n",
       "    <tr>\n",
       "      <th>1</th>\n",
       "      <td>Gostaria de fazer testes unitários no Node.js,...</td>\n",
       "      <td>node.js</td>\n",
       "      <td>1</td>\n",
       "      <td>0</td>\n",
       "      <td>0</td>\n",
       "      <td>0</td>\n",
       "      <td>(1, 0, 0, 0)</td>\n",
       "    </tr>\n",
       "    <tr>\n",
       "      <th>2</th>\n",
       "      <td>Como inverter a ordem com que o jQuery itera u...</td>\n",
       "      <td>jquery</td>\n",
       "      <td>0</td>\n",
       "      <td>1</td>\n",
       "      <td>0</td>\n",
       "      <td>0</td>\n",
       "      <td>(0, 1, 0, 0)</td>\n",
       "    </tr>\n",
       "    <tr>\n",
       "      <th>3</th>\n",
       "      <td>Eu tenho uma página onde pretendo utilizar um ...</td>\n",
       "      <td>html</td>\n",
       "      <td>0</td>\n",
       "      <td>0</td>\n",
       "      <td>1</td>\n",
       "      <td>0</td>\n",
       "      <td>(0, 0, 1, 0)</td>\n",
       "    </tr>\n",
       "    <tr>\n",
       "      <th>4</th>\n",
       "      <td>Como exibir os dados retornados do FireStore e...</td>\n",
       "      <td>html angular</td>\n",
       "      <td>0</td>\n",
       "      <td>0</td>\n",
       "      <td>1</td>\n",
       "      <td>1</td>\n",
       "      <td>(0, 0, 1, 1)</td>\n",
       "    </tr>\n",
       "  </tbody>\n",
       "</table>\n",
       "</div>"
      ],
      "text/plain": [
       "                                           Perguntas           Tags  node.js  \\\n",
       "0  Possuo um projeto Node.js porém preciso criar ...        node.js        1   \n",
       "1  Gostaria de fazer testes unitários no Node.js,...        node.js        1   \n",
       "2  Como inverter a ordem com que o jQuery itera u...         jquery        0   \n",
       "3  Eu tenho uma página onde pretendo utilizar um ...           html        0   \n",
       "4  Como exibir os dados retornados do FireStore e...  html angular         0   \n",
       "\n",
       "   jquery  html  angular    todas_tags  \n",
       "0       0     0        0  (1, 0, 0, 0)  \n",
       "1       0     0        0  (1, 0, 0, 0)  \n",
       "2       1     0        0  (0, 1, 0, 0)  \n",
       "3       0     1        0  (0, 0, 1, 0)  \n",
       "4       0     1        1  (0, 0, 1, 1)  "
      ]
     },
     "execution_count": 8,
     "metadata": {},
     "output_type": "execute_result"
    }
   ],
   "source": [
    "lista_zip = list(zip(dados[lista_tags[0]], \n",
    "                dados[lista_tags[1]],\n",
    "                dados[lista_tags[2]],\n",
    "                dados[lista_tags[3]],))\n",
    "\n",
    "dados['todas_tags'] = lista_zip\n",
    "\n",
    "dados.head()"
   ]
  },
  {
   "cell_type": "markdown",
   "metadata": {},
   "source": [
    "## Treinando o modelo\n",
    "\n",
    "### Separando os dados de treino e teste\n",
    "\n",
    "Separamos os dados da seguinte forma: a coluna Perguntas será a variável feature e a coluna todas_tags criado anteriormente será a variável target, 20% dos dados serão os dados de teste."
   ]
  },
  {
   "cell_type": "code",
   "execution_count": 9,
   "metadata": {},
   "outputs": [],
   "source": [
    "perguntas_treino, perguntas_teste, tags_treino, tags_teste = train_test_split(dados['Perguntas'], \n",
    "                                                                              dados['todas_tags'], \n",
    "                                                                              test_size = 0.2, \n",
    "                                                                              random_state = 123)"
   ]
  },
  {
   "cell_type": "markdown",
   "metadata": {},
   "source": [
    "### Vetorização dos dados\n",
    "\n",
    "Por estarmos trabalhando com variável de texto, vetorizamos a coluna."
   ]
  },
  {
   "cell_type": "code",
   "execution_count": 10,
   "metadata": {},
   "outputs": [],
   "source": [
    "# Instanciando o vetorizador.\n",
    "vetorizador = TfidfVectorizer(max_features = 5000,\n",
    "                              max_df = 0.85)\n",
    "\n",
    "# Treinando o vetorizador.\n",
    "vetorizador.fit(dados['Perguntas'])\n",
    "\n",
    "# Vetorizando as perguntas de treino e teste.\n",
    "perguntas_treino_vetorizadas = vetorizador.transform(perguntas_treino)\n",
    "perguntas_teste_vetorizadas = vetorizador.transform(perguntas_teste)"
   ]
  }
 ],
 "metadata": {
  "kernelspec": {
   "display_name": "Python 3",
   "language": "python",
   "name": "python3"
  },
  "language_info": {
   "codemirror_mode": {
    "name": "ipython",
    "version": 3
   },
   "file_extension": ".py",
   "mimetype": "text/x-python",
   "name": "python",
   "nbconvert_exporter": "python",
   "pygments_lexer": "ipython3",
   "version": "3.11.5"
  }
 },
 "nbformat": 4,
 "nbformat_minor": 2
}
